{
 "cells": [
  {
   "cell_type": "code",
   "execution_count": 1,
   "metadata": {},
   "outputs": [],
   "source": [
    "from qiskit import QuantumCircuit, QuantumRegister, ClassicalRegister\n",
    "\n",
    "# Instantiate a quantum register holding two qubits\n",
    "# and a classical register holding two classical bits\n",
    "q_reg = QuantumRegister(size=2, name=\"q\")"
   ]
  },
  {
   "cell_type": "code",
   "execution_count": 127,
   "metadata": {},
   "outputs": [
    {
     "data": {
      "text/html": [
       "<pre style=\"word-wrap: normal;white-space: pre;background: #fff0;line-height: 1.1;font-family: &quot;Courier New&quot;,Courier,monospace\">     ┌───┐     \n",
       "q_0: ┤ H ├──■──\n",
       "     └───┘┌─┴─┐\n",
       "q_1: ─────┤ X ├\n",
       "          └───┘</pre>"
      ],
      "text/plain": [
       "     ┌───┐     \n",
       "q_0: ┤ H ├──■──\n",
       "     └───┘┌─┴─┐\n",
       "q_1: ─────┤ X ├\n",
       "          └───┘"
      ]
     },
     "execution_count": 127,
     "metadata": {},
     "output_type": "execute_result"
    }
   ],
   "source": [
    "# Instantiate a circuit containing the bits and qubits\n",
    "circuit = QuantumCircuit(q_reg)\n",
    "\n",
    "\n",
    "# Set the first qubit in a superposition of ∣0⟩ and ∣1⟩\n",
    "# For this, use the Hadamard gate\n",
    "circuit.h(q_reg[0])\n",
    "\n",
    "# Then use the control-not gate, with the first qubit as the control\n",
    "# and the sencond qubit as the target. This should entangle the qubits\n",
    "# in a state ( ∣00⟩ + ∣11⟩ ) / sqrt(2)\n",
    "circuit.cx(control_qubit=q_reg[0], target_qubit=q_reg[1])\n",
    "\n",
    "# Visualize the circuit\n",
    "circuit.draw()\n"
   ]
  },
  {
   "cell_type": "code",
   "execution_count": 128,
   "metadata": {},
   "outputs": [],
   "source": [
    "from qiskit_ibm_runtime import QiskitRuntimeService\n",
    "from qiskit_ibm_runtime.fake_provider import FakeManilaV2\n",
    "from qiskit.transpiler import generate_preset_pass_manager\n",
    "from dotenv import load_dotenv\n",
    "import os\n",
    "\n",
    "\n",
    "# To run and measure the circuit, instantiate a service that runs the circuit\n",
    "# In order to instantiate a service, create an account at https://quantum.ibm.com/\n",
    "# and use your IBM token (find it at /account)\n",
    "load_dotenv()\n",
    "token = os.getenv(\"IBM_TOKEN\")\n",
    "service = QiskitRuntimeService(channel=\"ibm_quantum\", token=token)\n",
    "\n",
    "# First, simmulate running the circuit, to make sure everything is ok.\n",
    "# Use a backend specifically for simulating (there's a lot of them)\n",
    "backend = FakeManilaV2()\n",
    "\n",
    "# Use the transpiler to optimize the circuit for the backend, creating the circuit\n",
    "# that obeys the Instruction Set Architectrue (ISA)\n",
    "pm = generate_preset_pass_manager(backend=backend, optimization_level=1)\n",
    "isa_circuit = pm.run(circuit)"
   ]
  },
  {
   "cell_type": "code",
   "execution_count": 129,
   "metadata": {},
   "outputs": [
    {
     "name": "stdout",
     "output_type": "stream",
     "text": [
      "ORIGINAL CIRCUIT: \n",
      "     ┌───┐     \n",
      "q_0: ┤ H ├──■──\n",
      "     └───┘┌─┴─┐\n",
      "q_1: ─────┤ X ├\n",
      "          └───┘\n",
      "\n",
      "ISA CIRCUIT:\n",
      "global phase: π/4\n",
      "         ┌─────────┐┌────┐┌─────────┐     \n",
      "q_0 -> 0 ┤ Rz(π/2) ├┤ √X ├┤ Rz(π/2) ├──■──\n",
      "         └─────────┘└────┘└─────────┘┌─┴─┐\n",
      "q_1 -> 1 ────────────────────────────┤ X ├\n",
      "                                     └───┘\n"
     ]
    }
   ],
   "source": [
    "# Visualize the original and ISA cirucit to see the difference\n",
    "print(f\"ORIGINAL CIRCUIT: \\n{circuit}\\n\")\n",
    "print(f\"ISA CIRCUIT:\\n{isa_circuit.draw(idle_wires=False)}\") # don't present wires that aren't used"
   ]
  },
  {
   "cell_type": "code",
   "execution_count": 130,
   "metadata": {},
   "outputs": [],
   "source": [
    "from qiskit_ibm_runtime import EstimatorV2 as Estimator\n",
    "from qiskit.quantum_info import SparsePauliOp\n",
    "\n",
    "# Observables are letter codes representing tensor produts of Pauli Operators on qubits\n",
    "# In this case, there are two cubits, so each obserable is a 2-letter-code\n",
    "# e.g. \"ZZ\" means (Pauli Operator Z on qubit 1 @ Pauli Operator Z on qubit 2)\n",
    "observables_labels = [\"ZZ\", \"XX\", \"YY\", \"XI\", \"ZI\", \"YI\", \"IX\", \"IY\", \"IZ\"]\n",
    "observables = [SparsePauliOp(label) for label in observables_labels]\n",
    "\n"
   ]
  },
  {
   "cell_type": "code",
   "execution_count": 131,
   "metadata": {},
   "outputs": [
    {
     "name": "stdout",
     "output_type": "stream",
     "text": [
      "JobStatus.RUNNING\n",
      "PrimitiveResult([PubResult(data=DataBin(evs=np.ndarray(<shape=(9,), dtype=float64>), stds=np.ndarray(<shape=(9,), dtype=float64>), shape=(9,)), metadata={'target_precision': 0.01, 'shots': 10000, 'circuit_metadata': {}})], metadata={'version': 2})\n"
     ]
    }
   ],
   "source": [
    "no_of_iterations = 10000\n",
    "estimator = Estimator(mode=backend, options={\"default_shots\":no_of_iterations})\n",
    "mapped_observables = [observable.apply_layout(isa_circuit.layout) for observable in observables]\n",
    "job = estimator.run([(isa_circuit, mapped_observables)])\n",
    "\n",
    "print(job.status())\n",
    "print(job.result())\n"
   ]
  },
  {
   "cell_type": "code",
   "execution_count": 132,
   "metadata": {},
   "outputs": [
    {
     "name": "stdout",
     "output_type": "stream",
     "text": [
      "[('ZZ', 1), ('XX', 1), ('YY', -1), ('XI', 0), ('ZI', 0), ('YI', 0), ('IX', 0), ('IY', 0), ('IZ', 0)]\n"
     ]
    }
   ],
   "source": [
    "# Before plotting the results, we can set up our expectations\n",
    "from qiskit.quantum_info import Statevector\n",
    "from sympy import nsimplify\n",
    "\n",
    "\n",
    "sv = Statevector(circuit)\n",
    "expectation_values_simple = [\n",
    "    nsimplify(sv.expectation_value(operator))\n",
    "    for operator in observables\n",
    "    ]\n",
    "\n",
    "print(list(zip(observables_labels, expectation_values_simple)))"
   ]
  },
  {
   "cell_type": "code",
   "execution_count": 133,
   "metadata": {},
   "outputs": [
    {
     "data": {
      "image/png": "[encoded data removed]",
      "text/plain": [
       "<Figure size 640x480 with 1 Axes>"
      ]
     },
     "metadata": {},
     "output_type": "display_data"
    }
   ],
   "source": [
    "import matplotlib.pyplot as plt\n",
    "\n",
    "values = job.result()[0].data.evs\n",
    "\n",
    "plt.plot(observables_labels, values, \"-o\")\n",
    "plt.xlabel(\"Observables\")\n",
    "plt.ylabel(\"Values\")\n",
    "plt.show()"
   ]
  },
  {
   "cell_type": "code",
   "execution_count": 134,
   "metadata": {},
   "outputs": [
    {
     "name": "stdout",
     "output_type": "stream",
     "text": [
      "The percentage of difference between the expected and SIMULATED calculated result of observables:\n",
      "[('ZZ', 0.0), ('XX', 0.0), ('YY', 0.0), ('XI', 0.36), ('ZI', 0.24), ('YI', 1.48), ('IX', 0.36), ('IY', 1.48), ('IZ', 0.24)]\n"
     ]
    }
   ],
   "source": [
    "# The graph shows average values of each observable over all iterations\n",
    "# Compare the expected values to the results, by subtracting the avg results from the expected ones\n",
    "import numpy as np\n",
    "\n",
    "expectation_values_simple = np.array(expectation_values_simple, dtype=float)\n",
    "diff_percentage = np.abs(expectation_values_simple - values) * 100\n",
    "diff_percentage_simple = np.round(diff_percentage, 2).tolist()\n",
    "\n",
    "print(\"The percentage of difference between the expected and SIMULATED calculated result of observables:\")\n",
    "print(list(zip(observables_labels, diff_percentage_simple)))\n"
   ]
  },
  {
   "cell_type": "code",
   "execution_count": 124,
   "metadata": {},
   "outputs": [
    {
     "name": "stdout",
     "output_type": "stream",
     "text": [
      "QUEUED\n",
      "PrimitiveResult([PubResult(data=DataBin(evs=np.ndarray(<shape=(9,), dtype=float64>), stds=np.ndarray(<shape=(9,), dtype=float64>), ensemble_standard_error=np.ndarray(<shape=(9,), dtype=float64>), shape=(9,)), metadata={'shots': 4096, 'target_precision': 0.015625, 'circuit_metadata': {}, 'resilience': {}, 'num_randomizations': 32})], metadata={'dynamical_decoupling': {'enable': False, 'sequence_type': 'XX', 'extra_slack_distribution': 'middle', 'scheduling_method': 'alap'}, 'twirling': {'enable_gates': False, 'enable_measure': True, 'num_randomizations': 'auto', 'shots_per_randomization': 'auto', 'interleave_randomizations': True, 'strategy': 'active-accum'}, 'resilience': {'measure_mitigation': True, 'zne_mitigation': False, 'pec_mitigation': False}, 'version': 2})\n"
     ]
    }
   ],
   "source": [
    "# Finally run this on a real quantum computer\n",
    "\n",
    "backend_real = service.least_busy(\n",
    "    simulator=False, operational=True\n",
    ")\n",
    "estimator = Estimator(mode=backend_real)\n",
    "pm = generate_preset_pass_manager(optimization_level=1, backend=backend_real)\n",
    "\n",
    "isa_circuit = pm.run(circuit)\n",
    "mapped_observables = [observable.apply_layout(isa_circuit.layout) for observable in observables]\n",
    "job = estimator.run([(isa_circuit, mapped_observables)])\n",
    "\n",
    "print(job.status())\n",
    "print(job.result())"
   ]
  },
  {
   "cell_type": "code",
   "execution_count": null,
   "metadata": {},
   "outputs": [
    {
     "data": {
      "image/png": "[encoded data removed]",
      "text/plain": [
       "<Figure size 640x480 with 1 Axes>"
      ]
     },
     "metadata": {},
     "output_type": "display_data"
    },
    {
     "name": "stdout",
     "output_type": "stream",
     "text": [
      "The percentage of difference between the expected and calculated result of observables:\n",
      "[('ZZ', 1.02), ('XX', 2.45), ('YY', 0.69), ('XI', 1.08), ('ZI', 1.24), ('YI', 2.47), ('IX', 0.63), ('IY', 3.34), ('IZ', 1.25)]\n"
     ]
    }
   ],
   "source": [
    "values = job.result()[0].data.evs\n",
    "\n",
    "plt.plot(observables_labels, values, \"-o\")\n",
    "plt.xlabel(\"Observables\")\n",
    "plt.ylabel(\"Values\")\n",
    "plt.show()\n",
    "\n",
    "diff_percentage = np.abs(expectation_values_simple - values) * 100\n",
    "diff_percentage_simple = np.round(diff_percentage, 2).tolist()\n",
    "\n",
    "print(\"The percentage of difference between the expected and REAL calculated result of observables:\")\n",
    "print(list(zip(observables_labels, diff_percentage_simple)))"
   ]
  },
  {
   "cell_type": "code",
   "execution_count": null,
   "metadata": {},
   "outputs": [],
   "source": []
  }
 ],
 "metadata": {
  "kernelspec": {
   "display_name": ".venv",
   "language": "python",
   "name": "python3"
  },
  "language_info": {
   "codemirror_mode": {
    "name": "ipython",
    "version": 3
   },
   "file_extension": ".py",
   "mimetype": "text/x-python",
   "name": "python",
   "nbconvert_exporter": "python",
   "pygments_lexer": "ipython3",
   "version": "3.13.2"
  }
 },
 "nbformat": 4,
 "nbformat_minor": 2
}
